{
  "nbformat": 4,
  "nbformat_minor": 0,
  "metadata": {
    "colab": {
      "provenance": [],
      "collapsed_sections": []
    },
    "kernelspec": {
      "name": "python3",
      "display_name": "Python 3"
    },
    "language_info": {
      "name": "python"
    }
  },
  "cells": [
    {
      "cell_type": "code",
      "execution_count": null,
      "metadata": {
        "colab": {
          "base_uri": "https://localhost:8080/"
        },
        "id": "o2f9JNmkbvNY",
        "outputId": "f303ee45-6042-4911-a04f-50f68cf90cfb"
      },
      "outputs": [
        {
          "output_type": "stream",
          "name": "stdout",
          "text": [
            "/content\n"
          ]
        }
      ],
      "source": [
        "%cd /content"
      ]
    },
    {
      "cell_type": "code",
      "source": [
        "import pandas as pd\n",
        "import numpy as np\n",
        "mobile_price=pd.read_csv(\"train.csv\")"
      ],
      "metadata": {
        "id": "jwq-0Af3cZHn"
      },
      "execution_count": null,
      "outputs": []
    },
    {
      "cell_type": "code",
      "source": [
        "x=mobile_price.iloc[:,0:20]\n",
        "y=mobile_price.iloc[:,20]\n",
        "accuracies = dict()"
      ],
      "metadata": {
        "id": "ve3NfgcHdBL8"
      },
      "execution_count": null,
      "outputs": []
    },
    {
      "cell_type": "code",
      "source": [
        "r = np.corrcoef(x.iloc[:,19], y)\n",
        "r"
      ],
      "metadata": {
        "colab": {
          "base_uri": "https://localhost:8080/"
        },
        "id": "Vo7UvL7ECysh",
        "outputId": "0ce24c49-344a-45e9-8418-0cbc26f206f9"
      },
      "execution_count": null,
      "outputs": [
        {
          "output_type": "execute_result",
          "data": {
            "text/plain": [
              "array([[1.        , 0.01878481],\n",
              "       [0.01878481, 1.        ]])"
            ]
          },
          "metadata": {},
          "execution_count": 112
        }
      ]
    },
    {
      "cell_type": "code",
      "source": [
        "x = x[['m_dep', 'sc_w', 'pc','talk_time','int_memory', 'mobile_wt', 'px_width', 'px_height', 'battery_power','ram']]"
      ],
      "metadata": {
        "id": "Fnqqy4thAQH8"
      },
      "execution_count": null,
      "outputs": []
    },
    {
      "cell_type": "code",
      "source": [
        "from sklearn.datasets import make_classification\n",
        "from sklearn.linear_model import LogisticRegression\n",
        "from sklearn.model_selection import train_test_split\n",
        "\n",
        "x_train,x_test,y_train,y_test=train_test_split(x,y,test_size=0.2)"
      ],
      "metadata": {
        "id": "b4cnzwHfdwCO"
      },
      "execution_count": null,
      "outputs": []
    },
    {
      "cell_type": "code",
      "source": [
        "from sklearn.preprocessing import StandardScaler\n",
        "sc = StandardScaler()\n",
        "x_train = sc.fit_transform(x_train)\n",
        "x_test=sc.transform(x_test)"
      ],
      "metadata": {
        "id": "D6Cn2r_y_JlJ"
      },
      "execution_count": null,
      "outputs": []
    },
    {
      "cell_type": "markdown",
      "source": [
        "Logistic Regression"
      ],
      "metadata": {
        "id": "IIMdzumRStL5"
      }
    },
    {
      "cell_type": "code",
      "source": [
        "clf = LogisticRegression(multi_class='ovr',tol=0.1,solver='sag')\n",
        "clf.fit(x_train, y_train)\n"
      ],
      "metadata": {
        "colab": {
          "base_uri": "https://localhost:8080/"
        },
        "id": "clio9mXheMD1",
        "outputId": "b88be489-ce6e-4a53-f320-2a67f418773f"
      },
      "execution_count": null,
      "outputs": [
        {
          "output_type": "execute_result",
          "data": {
            "text/plain": [
              "LogisticRegression(multi_class='ovr', solver='sag', tol=0.1)"
            ]
          },
          "metadata": {},
          "execution_count": 116
        }
      ]
    },
    {
      "cell_type": "code",
      "source": [
        "y_test_pred=clf.predict(x_test)\n",
        "y_train_pred=clf.predict(x_train)\n",
        "from sklearn.metrics import accuracy_score\n",
        "print(f'Train score {accuracy_score(y_train_pred,y_train)}')\n",
        "accuracies[\"logistic regression\"]=accuracy_score(y_test_pred,y_test)\n",
        "print(f'Test score {accuracies[\"logistic regression\"]}')"
      ],
      "metadata": {
        "colab": {
          "base_uri": "https://localhost:8080/"
        },
        "id": "w_uFG1FkfG61",
        "outputId": "f8a9e702-c05e-4853-abdf-5bc42635e048"
      },
      "execution_count": null,
      "outputs": [
        {
          "output_type": "stream",
          "name": "stdout",
          "text": [
            "Train score 0.85\n",
            "Test score 0.8575\n"
          ]
        }
      ]
    },
    {
      "cell_type": "code",
      "source": [
        "from sklearn.metrics import confusion_matrix\n",
        "cf_logistic=confusion_matrix(y_test, y_test_pred)\n",
        "cf_logistic"
      ],
      "metadata": {
        "colab": {
          "base_uri": "https://localhost:8080/"
        },
        "id": "zPtrjksDpOa-",
        "outputId": "faeabbbf-e6eb-4680-a298-87b2bc4d664e"
      },
      "execution_count": null,
      "outputs": [
        {
          "output_type": "execute_result",
          "data": {
            "text/plain": [
              "array([[ 95,   1,   0,   0],\n",
              "       [  5,  83,  15,   0],\n",
              "       [  0,  23,  62,  12],\n",
              "       [  0,   0,   1, 103]])"
            ]
          },
          "metadata": {},
          "execution_count": 118
        }
      ]
    },
    {
      "cell_type": "code",
      "source": [
        "from sklearn import metrics\n",
        "print(metrics.classification_report(y_test, y_test_pred, digits=3))\n",
        "from sklearn.metrics import precision_score\n",
        "print(\"Precision \",precision_score(y_test,y_test_pred,average='micro'))\n",
        "from sklearn.metrics import recall_score\n",
        "print(\"Recall \",recall_score(y_test,y_test_pred,average='micro'))"
      ],
      "metadata": {
        "colab": {
          "base_uri": "https://localhost:8080/"
        },
        "id": "_VVlLp4qORx_",
        "outputId": "2251cec0-a0ec-44f9-fd12-3507254ad1a5"
      },
      "execution_count": null,
      "outputs": [
        {
          "output_type": "stream",
          "name": "stdout",
          "text": [
            "              precision    recall  f1-score   support\n",
            "\n",
            "           0      0.950     0.990     0.969        96\n",
            "           1      0.776     0.806     0.790       103\n",
            "           2      0.795     0.639     0.709        97\n",
            "           3      0.896     0.990     0.941       104\n",
            "\n",
            "    accuracy                          0.858       400\n",
            "   macro avg      0.854     0.856     0.852       400\n",
            "weighted avg      0.853     0.858     0.853       400\n",
            "\n",
            "Precision  0.8575\n",
            "Recall  0.8575\n"
          ]
        }
      ]
    },
    {
      "cell_type": "markdown",
      "source": [
        "By SVM"
      ],
      "metadata": {
        "id": "wtl_m68LyyWX"
      }
    },
    {
      "cell_type": "code",
      "source": [
        "from sklearn import svm\n",
        "model_svm=svm.SVC()\n",
        "model_svm.fit(x_train,y_train)"
      ],
      "metadata": {
        "colab": {
          "base_uri": "https://localhost:8080/"
        },
        "id": "q1U-eo9seZk-",
        "outputId": "bec83569-5cdc-4e07-9b6f-6b91ea801ca3"
      },
      "execution_count": null,
      "outputs": [
        {
          "output_type": "execute_result",
          "data": {
            "text/plain": [
              "SVC()"
            ]
          },
          "metadata": {},
          "execution_count": 120
        }
      ]
    },
    {
      "cell_type": "code",
      "source": [
        "y_test_pred=model_svm.predict(x_test)\n",
        "y_train_pred=model_svm.predict(x_train)\n",
        "from sklearn.metrics import accuracy_score\n",
        "accuracies[\"SVM\"]=accuracy_score(y_test_pred,y_test)\n",
        "print(f'Train score {accuracy_score(y_train_pred,y_train)}')\n",
        "print(f'Test score {accuracies[\"SVM\"]}')"
      ],
      "metadata": {
        "colab": {
          "base_uri": "https://localhost:8080/"
        },
        "id": "QZEl32UQfpdW",
        "outputId": "0253c54b-6624-4c82-e06e-a06d708ed74b"
      },
      "execution_count": null,
      "outputs": [
        {
          "output_type": "stream",
          "name": "stdout",
          "text": [
            "Train score 0.97375\n",
            "Test score 0.945\n"
          ]
        }
      ]
    },
    {
      "cell_type": "code",
      "source": [
        "cf_svm=confusion_matrix(y_test, y_test_pred)\n",
        "cf_svm"
      ],
      "metadata": {
        "colab": {
          "base_uri": "https://localhost:8080/"
        },
        "id": "If9LTpiby2LA",
        "outputId": "7b1bf8a1-ce9a-4990-a38d-5274daadcfaa"
      },
      "execution_count": null,
      "outputs": [
        {
          "output_type": "execute_result",
          "data": {
            "text/plain": [
              "array([[94,  2,  0,  0],\n",
              "       [ 7, 94,  2,  0],\n",
              "       [ 0,  3, 93,  1],\n",
              "       [ 0,  0,  7, 97]])"
            ]
          },
          "metadata": {},
          "execution_count": 122
        }
      ]
    },
    {
      "cell_type": "code",
      "source": [
        "from sklearn import metrics\n",
        "print(metrics.classification_report(y_test, y_test_pred, digits=3))\n",
        "from sklearn.metrics import precision_score\n",
        "print(\"Precision \",precision_score(y_test,y_test_pred,average='micro'))\n",
        "from sklearn.metrics import recall_score\n",
        "print(\"Recall \",recall_score(y_test,y_test_pred,average='micro'))"
      ],
      "metadata": {
        "id": "boeTjC8A1Guj",
        "colab": {
          "base_uri": "https://localhost:8080/"
        },
        "outputId": "11b7c2a7-6fce-4c76-9dba-c459b2998818"
      },
      "execution_count": null,
      "outputs": [
        {
          "output_type": "stream",
          "name": "stdout",
          "text": [
            "              precision    recall  f1-score   support\n",
            "\n",
            "           0      0.931     0.979     0.954        96\n",
            "           1      0.949     0.913     0.931       103\n",
            "           2      0.912     0.959     0.935        97\n",
            "           3      0.990     0.933     0.960       104\n",
            "\n",
            "    accuracy                          0.945       400\n",
            "   macro avg      0.945     0.946     0.945       400\n",
            "weighted avg      0.946     0.945     0.945       400\n",
            "\n",
            "Precision  0.945\n",
            "Recall  0.945\n"
          ]
        }
      ]
    },
    {
      "cell_type": "markdown",
      "source": [
        "Random forest"
      ],
      "metadata": {
        "id": "kgtQtTI2TMQ3"
      }
    },
    {
      "cell_type": "code",
      "source": [
        "from sklearn.ensemble import RandomForestClassifier"
      ],
      "metadata": {
        "id": "eo_WhIaDgTTt"
      },
      "execution_count": null,
      "outputs": []
    },
    {
      "cell_type": "code",
      "source": [
        "learner=RandomForestClassifier(n_estimators=10,random_state=0)\n",
        "learner.fit(x_train,y_train)\n",
        "y_train_pred=learner.predict(x_train)"
      ],
      "metadata": {
        "id": "lhVs8rGxgZ30"
      },
      "execution_count": null,
      "outputs": []
    },
    {
      "cell_type": "code",
      "source": [
        "y_test_pred=learner.predict(x_test)\n",
        "from sklearn.metrics import accuracy_score"
      ],
      "metadata": {
        "id": "S81peQ53gfPi"
      },
      "execution_count": null,
      "outputs": []
    },
    {
      "cell_type": "code",
      "source": [
        "accuracies[\"Random Forest\"]=accuracy_score(y_test_pred,y_test)\n",
        "print(f'Train score {accuracy_score(y_train_pred,y_train)}')\n",
        "print(f'Test score {accuracies[\"Random Forest\"]}')\n"
      ],
      "metadata": {
        "id": "mTm_wa9Ngyeu",
        "colab": {
          "base_uri": "https://localhost:8080/"
        },
        "outputId": "0b1b658b-66f4-49dc-b3f6-1a38aa044927"
      },
      "execution_count": null,
      "outputs": [
        {
          "output_type": "stream",
          "name": "stdout",
          "text": [
            "Train score 0.996875\n",
            "Test score 0.895\n"
          ]
        }
      ]
    },
    {
      "cell_type": "code",
      "source": [
        "cf_rf=confusion_matrix(y_test, y_test_pred)\n",
        "cf_rf"
      ],
      "metadata": {
        "id": "DjN7c40Lg8p0",
        "colab": {
          "base_uri": "https://localhost:8080/"
        },
        "outputId": "4cc6f676-7c00-4f87-a8ce-498e9fd5b852"
      },
      "execution_count": null,
      "outputs": [
        {
          "output_type": "execute_result",
          "data": {
            "text/plain": [
              "array([[92,  4,  0,  0],\n",
              "       [15, 86,  2,  0],\n",
              "       [ 0,  7, 86,  4],\n",
              "       [ 0,  0, 10, 94]])"
            ]
          },
          "metadata": {},
          "execution_count": 128
        }
      ]
    },
    {
      "cell_type": "code",
      "source": [
        "from sklearn import metrics\n",
        "print(metrics.classification_report(y_test, y_test_pred, digits=3))\n",
        "from sklearn.metrics import precision_score\n",
        "print(\"Precision \",precision_score(y_test,y_test_pred,average='micro'))\n",
        "from sklearn.metrics import recall_score\n",
        "print(\"Recall \",recall_score(y_test,y_test_pred,average='micro'))"
      ],
      "metadata": {
        "id": "br0hQZ7yUji5",
        "colab": {
          "base_uri": "https://localhost:8080/"
        },
        "outputId": "25e915f8-dc8e-4c5f-fea3-f920d44e1276"
      },
      "execution_count": null,
      "outputs": [
        {
          "output_type": "stream",
          "name": "stdout",
          "text": [
            "              precision    recall  f1-score   support\n",
            "\n",
            "           0      0.860     0.958     0.906        96\n",
            "           1      0.887     0.835     0.860       103\n",
            "           2      0.878     0.887     0.882        97\n",
            "           3      0.959     0.904     0.931       104\n",
            "\n",
            "    accuracy                          0.895       400\n",
            "   macro avg      0.896     0.896     0.895       400\n",
            "weighted avg      0.897     0.895     0.895       400\n",
            "\n",
            "Precision  0.895\n",
            "Recall  0.895\n"
          ]
        }
      ]
    },
    {
      "cell_type": "markdown",
      "source": [
        "Naive bayes"
      ],
      "metadata": {
        "id": "HRrCt1cZYz4M"
      }
    },
    {
      "cell_type": "code",
      "source": [
        "from sklearn.naive_bayes import GaussianNB\n",
        "gnb = GaussianNB()"
      ],
      "metadata": {
        "id": "UmfVoHiNYqQq"
      },
      "execution_count": null,
      "outputs": []
    },
    {
      "cell_type": "code",
      "source": [
        "gnb.fit(x_train, y_train)\n",
        "y_train_pred=gnb.predict(x_train)\n",
        "y_test_pred=gnb.predict(x_test)\n",
        "accuracies[\"Naive bayes\"]=accuracy_score(y_test_pred,y_test)\n",
        "print(f'Train score {accuracy_score(y_train_pred,y_train)}')\n",
        "print(f'Test score {accuracies[\"Naive bayes\"]}')"
      ],
      "metadata": {
        "id": "VhDWCgJphJMX",
        "colab": {
          "base_uri": "https://localhost:8080/"
        },
        "outputId": "a7f07e17-88cd-44c2-e921-44eccd6afc05"
      },
      "execution_count": null,
      "outputs": [
        {
          "output_type": "stream",
          "name": "stdout",
          "text": [
            "Train score 0.79875\n",
            "Test score 0.83\n"
          ]
        }
      ]
    },
    {
      "cell_type": "code",
      "source": [
        "cf_nb=confusion_matrix(y_test, y_test_pred)\n",
        "cf_nb"
      ],
      "metadata": {
        "id": "N-9pxQ3wiICE",
        "colab": {
          "base_uri": "https://localhost:8080/"
        },
        "outputId": "df3e06b1-e148-454b-873d-c3f5fa03d3fe"
      },
      "execution_count": null,
      "outputs": [
        {
          "output_type": "execute_result",
          "data": {
            "text/plain": [
              "array([[90,  6,  0,  0],\n",
              "       [ 8, 81, 14,  0],\n",
              "       [ 0, 17, 69, 11],\n",
              "       [ 0,  0, 12, 92]])"
            ]
          },
          "metadata": {},
          "execution_count": 132
        }
      ]
    },
    {
      "cell_type": "code",
      "source": [
        "from sklearn import metrics\n",
        "print(metrics.classification_report(y_test, y_test_pred, digits=3))\n",
        "from sklearn.metrics import precision_score\n",
        "print(\"Precision \",precision_score(y_test,y_test_pred,average='micro'))\n",
        "from sklearn.metrics import recall_score\n",
        "print(\"Recall \",recall_score(y_test,y_test_pred,average='micro'))"
      ],
      "metadata": {
        "id": "tZ-sK-1bioxy",
        "colab": {
          "base_uri": "https://localhost:8080/"
        },
        "outputId": "dc603585-84f5-43dc-d164-d8f3402f6732"
      },
      "execution_count": null,
      "outputs": [
        {
          "output_type": "stream",
          "name": "stdout",
          "text": [
            "              precision    recall  f1-score   support\n",
            "\n",
            "           0      0.918     0.938     0.928        96\n",
            "           1      0.779     0.786     0.783       103\n",
            "           2      0.726     0.711     0.719        97\n",
            "           3      0.893     0.885     0.889       104\n",
            "\n",
            "    accuracy                          0.830       400\n",
            "   macro avg      0.829     0.830     0.830       400\n",
            "weighted avg      0.829     0.830     0.830       400\n",
            "\n",
            "Precision  0.83\n",
            "Recall  0.83\n"
          ]
        }
      ]
    },
    {
      "cell_type": "markdown",
      "source": [
        "Neural network"
      ],
      "metadata": {
        "id": "NuCyMUIdvaHc"
      }
    },
    {
      "cell_type": "code",
      "source": [
        "y_train = y_train.values.reshape(-1,1)\n",
        "y_test=y_test.values.reshape(-1,1)"
      ],
      "metadata": {
        "id": "PFpmAfhEyAHp"
      },
      "execution_count": null,
      "outputs": []
    },
    {
      "cell_type": "code",
      "source": [
        "from sklearn.preprocessing import OneHotEncoder\n",
        "ohot = OneHotEncoder()\n",
        "y_train = ohot.fit_transform(y_train)\n",
        "y_test=ohot.fit_transform(y_test)"
      ],
      "metadata": {
        "id": "EKN1sCbSygLI"
      },
      "execution_count": null,
      "outputs": []
    },
    {
      "cell_type": "code",
      "source": [
        "y_train=y_train.toarray()\n",
        "y_test=y_test.toarray()"
      ],
      "metadata": {
        "id": "5t2uZ9dmynsL"
      },
      "execution_count": null,
      "outputs": []
    },
    {
      "cell_type": "code",
      "source": [
        "import keras\n",
        "from keras.models import Sequential\n",
        "from keras.layers import *\n",
        "from tensorflow.keras.optimizers import Adam\n",
        "import matplotlib.pyplot as plt\n",
        "%matplotlib inline"
      ],
      "metadata": {
        "id": "oDFoVvZwi45f"
      },
      "execution_count": null,
      "outputs": []
    },
    {
      "cell_type": "code",
      "source": [
        "model = Sequential()\n",
        "model.add(Dense(8,activation='relu',input_dim = 10))\n",
        "model.add(Dense(6,activation='relu'))\n",
        "model.add(Dense(4,activation='softmax'))\n",
        "model.summary()"
      ],
      "metadata": {
        "id": "BRgf5w4Hvre5",
        "colab": {
          "base_uri": "https://localhost:8080/"
        },
        "outputId": "1e515931-8c67-4c91-e4a8-ac7374b66566"
      },
      "execution_count": null,
      "outputs": [
        {
          "output_type": "stream",
          "name": "stdout",
          "text": [
            "Model: \"sequential_3\"\n",
            "_________________________________________________________________\n",
            " Layer (type)                Output Shape              Param #   \n",
            "=================================================================\n",
            " dense_9 (Dense)             (None, 8)                 88        \n",
            "                                                                 \n",
            " dense_10 (Dense)            (None, 6)                 54        \n",
            "                                                                 \n",
            " dense_11 (Dense)            (None, 4)                 28        \n",
            "                                                                 \n",
            "=================================================================\n",
            "Total params: 170\n",
            "Trainable params: 170\n",
            "Non-trainable params: 0\n",
            "_________________________________________________________________\n"
          ]
        }
      ]
    },
    {
      "cell_type": "code",
      "source": [
        "optimizer = Adam(learning_rate=0.001)\n",
        "model.compile(optimizer, loss='categorical_crossentropy', metrics=['accuracy'])"
      ],
      "metadata": {
        "id": "MD3MpQslwAlE"
      },
      "execution_count": null,
      "outputs": []
    },
    {
      "cell_type": "code",
      "source": [
        "history = model.fit(x_train,y_train,epochs=105,validation_data=(x_test,y_test),batch_size=64)"
      ],
      "metadata": {
        "id": "6CHp_ZlQwCZf",
        "colab": {
          "base_uri": "https://localhost:8080/"
        },
        "outputId": "6a8dd6fb-222e-4714-8056-7882f8b75a6f"
      },
      "execution_count": null,
      "outputs": [
        {
          "output_type": "stream",
          "name": "stdout",
          "text": [
            "Epoch 1/105\n",
            "25/25 [==============================] - 1s 9ms/step - loss: 1.3747 - accuracy: 0.3256 - val_loss: 1.3569 - val_accuracy: 0.3725\n",
            "Epoch 2/105\n",
            "25/25 [==============================] - 0s 2ms/step - loss: 1.3442 - accuracy: 0.3756 - val_loss: 1.3275 - val_accuracy: 0.4050\n",
            "Epoch 3/105\n",
            "25/25 [==============================] - 0s 3ms/step - loss: 1.3157 - accuracy: 0.4019 - val_loss: 1.2981 - val_accuracy: 0.4400\n",
            "Epoch 4/105\n",
            "25/25 [==============================] - 0s 2ms/step - loss: 1.2839 - accuracy: 0.4275 - val_loss: 1.2642 - val_accuracy: 0.4450\n",
            "Epoch 5/105\n",
            "25/25 [==============================] - 0s 3ms/step - loss: 1.2475 - accuracy: 0.4631 - val_loss: 1.2273 - val_accuracy: 0.4775\n",
            "Epoch 6/105\n",
            "25/25 [==============================] - 0s 3ms/step - loss: 1.2068 - accuracy: 0.4981 - val_loss: 1.1851 - val_accuracy: 0.4950\n",
            "Epoch 7/105\n",
            "25/25 [==============================] - 0s 3ms/step - loss: 1.1613 - accuracy: 0.5200 - val_loss: 1.1381 - val_accuracy: 0.5425\n",
            "Epoch 8/105\n",
            "25/25 [==============================] - 0s 3ms/step - loss: 1.1122 - accuracy: 0.5462 - val_loss: 1.0871 - val_accuracy: 0.5725\n",
            "Epoch 9/105\n",
            "25/25 [==============================] - 0s 2ms/step - loss: 1.0615 - accuracy: 0.5650 - val_loss: 1.0344 - val_accuracy: 0.5750\n",
            "Epoch 10/105\n",
            "25/25 [==============================] - 0s 2ms/step - loss: 1.0094 - accuracy: 0.5806 - val_loss: 0.9816 - val_accuracy: 0.5900\n",
            "Epoch 11/105\n",
            "25/25 [==============================] - 0s 3ms/step - loss: 0.9573 - accuracy: 0.6012 - val_loss: 0.9290 - val_accuracy: 0.6025\n",
            "Epoch 12/105\n",
            "25/25 [==============================] - 0s 3ms/step - loss: 0.9066 - accuracy: 0.6150 - val_loss: 0.8789 - val_accuracy: 0.6225\n",
            "Epoch 13/105\n",
            "25/25 [==============================] - 0s 3ms/step - loss: 0.8577 - accuracy: 0.6381 - val_loss: 0.8298 - val_accuracy: 0.6350\n",
            "Epoch 14/105\n",
            "25/25 [==============================] - 0s 3ms/step - loss: 0.8116 - accuracy: 0.6556 - val_loss: 0.7820 - val_accuracy: 0.6475\n",
            "Epoch 15/105\n",
            "25/25 [==============================] - 0s 3ms/step - loss: 0.7663 - accuracy: 0.6800 - val_loss: 0.7337 - val_accuracy: 0.6850\n",
            "Epoch 16/105\n",
            "25/25 [==============================] - 0s 2ms/step - loss: 0.7217 - accuracy: 0.6994 - val_loss: 0.6874 - val_accuracy: 0.7175\n",
            "Epoch 17/105\n",
            "25/25 [==============================] - 0s 2ms/step - loss: 0.6788 - accuracy: 0.7319 - val_loss: 0.6430 - val_accuracy: 0.7650\n",
            "Epoch 18/105\n",
            "25/25 [==============================] - 0s 2ms/step - loss: 0.6379 - accuracy: 0.7763 - val_loss: 0.6032 - val_accuracy: 0.7975\n",
            "Epoch 19/105\n",
            "25/25 [==============================] - 0s 3ms/step - loss: 0.5993 - accuracy: 0.8056 - val_loss: 0.5674 - val_accuracy: 0.8125\n",
            "Epoch 20/105\n",
            "25/25 [==============================] - 0s 2ms/step - loss: 0.5644 - accuracy: 0.8231 - val_loss: 0.5354 - val_accuracy: 0.8450\n",
            "Epoch 21/105\n",
            "25/25 [==============================] - 0s 3ms/step - loss: 0.5326 - accuracy: 0.8400 - val_loss: 0.5066 - val_accuracy: 0.8450\n",
            "Epoch 22/105\n",
            "25/25 [==============================] - 0s 2ms/step - loss: 0.5038 - accuracy: 0.8462 - val_loss: 0.4807 - val_accuracy: 0.8575\n",
            "Epoch 23/105\n",
            "25/25 [==============================] - 0s 3ms/step - loss: 0.4778 - accuracy: 0.8631 - val_loss: 0.4578 - val_accuracy: 0.8600\n",
            "Epoch 24/105\n",
            "25/25 [==============================] - 0s 3ms/step - loss: 0.4546 - accuracy: 0.8662 - val_loss: 0.4361 - val_accuracy: 0.8700\n",
            "Epoch 25/105\n",
            "25/25 [==============================] - 0s 3ms/step - loss: 0.4330 - accuracy: 0.8831 - val_loss: 0.4163 - val_accuracy: 0.8775\n",
            "Epoch 26/105\n",
            "25/25 [==============================] - 0s 3ms/step - loss: 0.4135 - accuracy: 0.8831 - val_loss: 0.3989 - val_accuracy: 0.8900\n",
            "Epoch 27/105\n",
            "25/25 [==============================] - 0s 4ms/step - loss: 0.3951 - accuracy: 0.8925 - val_loss: 0.3810 - val_accuracy: 0.8925\n",
            "Epoch 28/105\n",
            "25/25 [==============================] - 0s 3ms/step - loss: 0.3779 - accuracy: 0.8938 - val_loss: 0.3655 - val_accuracy: 0.8975\n",
            "Epoch 29/105\n",
            "25/25 [==============================] - 0s 3ms/step - loss: 0.3627 - accuracy: 0.9006 - val_loss: 0.3503 - val_accuracy: 0.8975\n",
            "Epoch 30/105\n",
            "25/25 [==============================] - 0s 3ms/step - loss: 0.3482 - accuracy: 0.9038 - val_loss: 0.3372 - val_accuracy: 0.9025\n",
            "Epoch 31/105\n",
            "25/25 [==============================] - 0s 2ms/step - loss: 0.3345 - accuracy: 0.9069 - val_loss: 0.3240 - val_accuracy: 0.9100\n",
            "Epoch 32/105\n",
            "25/25 [==============================] - 0s 3ms/step - loss: 0.3221 - accuracy: 0.9162 - val_loss: 0.3125 - val_accuracy: 0.9075\n",
            "Epoch 33/105\n",
            "25/25 [==============================] - 0s 2ms/step - loss: 0.3096 - accuracy: 0.9194 - val_loss: 0.3015 - val_accuracy: 0.9050\n",
            "Epoch 34/105\n",
            "25/25 [==============================] - 0s 2ms/step - loss: 0.2980 - accuracy: 0.9169 - val_loss: 0.2908 - val_accuracy: 0.9125\n",
            "Epoch 35/105\n",
            "25/25 [==============================] - 0s 2ms/step - loss: 0.2871 - accuracy: 0.9225 - val_loss: 0.2796 - val_accuracy: 0.9150\n",
            "Epoch 36/105\n",
            "25/25 [==============================] - 0s 3ms/step - loss: 0.2771 - accuracy: 0.9225 - val_loss: 0.2708 - val_accuracy: 0.9200\n",
            "Epoch 37/105\n",
            "25/25 [==============================] - 0s 2ms/step - loss: 0.2677 - accuracy: 0.9269 - val_loss: 0.2622 - val_accuracy: 0.9175\n",
            "Epoch 38/105\n",
            "25/25 [==============================] - 0s 3ms/step - loss: 0.2581 - accuracy: 0.9300 - val_loss: 0.2542 - val_accuracy: 0.9200\n",
            "Epoch 39/105\n",
            "25/25 [==============================] - 0s 3ms/step - loss: 0.2503 - accuracy: 0.9344 - val_loss: 0.2464 - val_accuracy: 0.9150\n",
            "Epoch 40/105\n",
            "25/25 [==============================] - 0s 2ms/step - loss: 0.2419 - accuracy: 0.9287 - val_loss: 0.2383 - val_accuracy: 0.9225\n",
            "Epoch 41/105\n",
            "25/25 [==============================] - 0s 3ms/step - loss: 0.2345 - accuracy: 0.9362 - val_loss: 0.2310 - val_accuracy: 0.9225\n",
            "Epoch 42/105\n",
            "25/25 [==============================] - 0s 4ms/step - loss: 0.2280 - accuracy: 0.9344 - val_loss: 0.2246 - val_accuracy: 0.9225\n",
            "Epoch 43/105\n",
            "25/25 [==============================] - 0s 3ms/step - loss: 0.2208 - accuracy: 0.9444 - val_loss: 0.2192 - val_accuracy: 0.9250\n",
            "Epoch 44/105\n",
            "25/25 [==============================] - 0s 3ms/step - loss: 0.2148 - accuracy: 0.9438 - val_loss: 0.2124 - val_accuracy: 0.9225\n",
            "Epoch 45/105\n",
            "25/25 [==============================] - 0s 2ms/step - loss: 0.2090 - accuracy: 0.9431 - val_loss: 0.2078 - val_accuracy: 0.9250\n",
            "Epoch 46/105\n",
            "25/25 [==============================] - 0s 2ms/step - loss: 0.2039 - accuracy: 0.9438 - val_loss: 0.2016 - val_accuracy: 0.9225\n",
            "Epoch 47/105\n",
            "25/25 [==============================] - 0s 2ms/step - loss: 0.1983 - accuracy: 0.9406 - val_loss: 0.1968 - val_accuracy: 0.9250\n",
            "Epoch 48/105\n",
            "25/25 [==============================] - 0s 3ms/step - loss: 0.1934 - accuracy: 0.9506 - val_loss: 0.1913 - val_accuracy: 0.9300\n",
            "Epoch 49/105\n",
            "25/25 [==============================] - 0s 3ms/step - loss: 0.1889 - accuracy: 0.9531 - val_loss: 0.1870 - val_accuracy: 0.9300\n",
            "Epoch 50/105\n",
            "25/25 [==============================] - 0s 3ms/step - loss: 0.1842 - accuracy: 0.9531 - val_loss: 0.1834 - val_accuracy: 0.9300\n",
            "Epoch 51/105\n",
            "25/25 [==============================] - 0s 3ms/step - loss: 0.1804 - accuracy: 0.9556 - val_loss: 0.1799 - val_accuracy: 0.9325\n",
            "Epoch 52/105\n",
            "25/25 [==============================] - 0s 2ms/step - loss: 0.1763 - accuracy: 0.9538 - val_loss: 0.1746 - val_accuracy: 0.9325\n",
            "Epoch 53/105\n",
            "25/25 [==============================] - 0s 3ms/step - loss: 0.1735 - accuracy: 0.9556 - val_loss: 0.1716 - val_accuracy: 0.9350\n",
            "Epoch 54/105\n",
            "25/25 [==============================] - 0s 3ms/step - loss: 0.1691 - accuracy: 0.9569 - val_loss: 0.1681 - val_accuracy: 0.9375\n",
            "Epoch 55/105\n",
            "25/25 [==============================] - 0s 2ms/step - loss: 0.1656 - accuracy: 0.9563 - val_loss: 0.1647 - val_accuracy: 0.9375\n",
            "Epoch 56/105\n",
            "25/25 [==============================] - 0s 3ms/step - loss: 0.1621 - accuracy: 0.9588 - val_loss: 0.1619 - val_accuracy: 0.9450\n",
            "Epoch 57/105\n",
            "25/25 [==============================] - 0s 2ms/step - loss: 0.1588 - accuracy: 0.9563 - val_loss: 0.1592 - val_accuracy: 0.9500\n",
            "Epoch 58/105\n",
            "25/25 [==============================] - 0s 3ms/step - loss: 0.1563 - accuracy: 0.9606 - val_loss: 0.1561 - val_accuracy: 0.9425\n",
            "Epoch 59/105\n",
            "25/25 [==============================] - 0s 3ms/step - loss: 0.1536 - accuracy: 0.9588 - val_loss: 0.1537 - val_accuracy: 0.9450\n",
            "Epoch 60/105\n",
            "25/25 [==============================] - 0s 3ms/step - loss: 0.1505 - accuracy: 0.9600 - val_loss: 0.1527 - val_accuracy: 0.9450\n",
            "Epoch 61/105\n",
            "25/25 [==============================] - 0s 3ms/step - loss: 0.1477 - accuracy: 0.9613 - val_loss: 0.1503 - val_accuracy: 0.9475\n",
            "Epoch 62/105\n",
            "25/25 [==============================] - 0s 2ms/step - loss: 0.1448 - accuracy: 0.9644 - val_loss: 0.1476 - val_accuracy: 0.9450\n",
            "Epoch 63/105\n",
            "25/25 [==============================] - 0s 3ms/step - loss: 0.1426 - accuracy: 0.9581 - val_loss: 0.1454 - val_accuracy: 0.9475\n",
            "Epoch 64/105\n",
            "25/25 [==============================] - 0s 3ms/step - loss: 0.1406 - accuracy: 0.9638 - val_loss: 0.1431 - val_accuracy: 0.9475\n",
            "Epoch 65/105\n",
            "25/25 [==============================] - 0s 2ms/step - loss: 0.1383 - accuracy: 0.9650 - val_loss: 0.1431 - val_accuracy: 0.9450\n",
            "Epoch 66/105\n",
            "25/25 [==============================] - 0s 3ms/step - loss: 0.1359 - accuracy: 0.9644 - val_loss: 0.1393 - val_accuracy: 0.9475\n",
            "Epoch 67/105\n",
            "25/25 [==============================] - 0s 2ms/step - loss: 0.1342 - accuracy: 0.9594 - val_loss: 0.1382 - val_accuracy: 0.9450\n",
            "Epoch 68/105\n",
            "25/25 [==============================] - 0s 3ms/step - loss: 0.1329 - accuracy: 0.9631 - val_loss: 0.1366 - val_accuracy: 0.9425\n",
            "Epoch 69/105\n",
            "25/25 [==============================] - 0s 3ms/step - loss: 0.1295 - accuracy: 0.9669 - val_loss: 0.1349 - val_accuracy: 0.9450\n",
            "Epoch 70/105\n",
            "25/25 [==============================] - 0s 3ms/step - loss: 0.1273 - accuracy: 0.9638 - val_loss: 0.1332 - val_accuracy: 0.9450\n",
            "Epoch 71/105\n",
            "25/25 [==============================] - 0s 2ms/step - loss: 0.1254 - accuracy: 0.9675 - val_loss: 0.1317 - val_accuracy: 0.9475\n",
            "Epoch 72/105\n",
            "25/25 [==============================] - 0s 3ms/step - loss: 0.1237 - accuracy: 0.9638 - val_loss: 0.1300 - val_accuracy: 0.9450\n",
            "Epoch 73/105\n",
            "25/25 [==============================] - 0s 2ms/step - loss: 0.1224 - accuracy: 0.9663 - val_loss: 0.1301 - val_accuracy: 0.9475\n",
            "Epoch 74/105\n",
            "25/25 [==============================] - 0s 3ms/step - loss: 0.1204 - accuracy: 0.9675 - val_loss: 0.1279 - val_accuracy: 0.9450\n",
            "Epoch 75/105\n",
            "25/25 [==============================] - 0s 2ms/step - loss: 0.1181 - accuracy: 0.9712 - val_loss: 0.1272 - val_accuracy: 0.9475\n",
            "Epoch 76/105\n",
            "25/25 [==============================] - 0s 2ms/step - loss: 0.1163 - accuracy: 0.9688 - val_loss: 0.1259 - val_accuracy: 0.9500\n",
            "Epoch 77/105\n",
            "25/25 [==============================] - 0s 3ms/step - loss: 0.1148 - accuracy: 0.9706 - val_loss: 0.1238 - val_accuracy: 0.9450\n",
            "Epoch 78/105\n",
            "25/25 [==============================] - 0s 2ms/step - loss: 0.1131 - accuracy: 0.9694 - val_loss: 0.1239 - val_accuracy: 0.9450\n",
            "Epoch 79/105\n",
            "25/25 [==============================] - 0s 3ms/step - loss: 0.1116 - accuracy: 0.9731 - val_loss: 0.1235 - val_accuracy: 0.9525\n",
            "Epoch 80/105\n",
            "25/25 [==============================] - 0s 3ms/step - loss: 0.1099 - accuracy: 0.9712 - val_loss: 0.1210 - val_accuracy: 0.9475\n",
            "Epoch 81/105\n",
            "25/25 [==============================] - 0s 3ms/step - loss: 0.1086 - accuracy: 0.9712 - val_loss: 0.1204 - val_accuracy: 0.9525\n",
            "Epoch 82/105\n",
            "25/25 [==============================] - 0s 3ms/step - loss: 0.1080 - accuracy: 0.9744 - val_loss: 0.1205 - val_accuracy: 0.9500\n",
            "Epoch 83/105\n",
            "25/25 [==============================] - 0s 3ms/step - loss: 0.1061 - accuracy: 0.9725 - val_loss: 0.1179 - val_accuracy: 0.9525\n",
            "Epoch 84/105\n",
            "25/25 [==============================] - 0s 2ms/step - loss: 0.1050 - accuracy: 0.9756 - val_loss: 0.1191 - val_accuracy: 0.9500\n",
            "Epoch 85/105\n",
            "25/25 [==============================] - 0s 3ms/step - loss: 0.1026 - accuracy: 0.9756 - val_loss: 0.1171 - val_accuracy: 0.9550\n",
            "Epoch 86/105\n",
            "25/25 [==============================] - 0s 3ms/step - loss: 0.1019 - accuracy: 0.9756 - val_loss: 0.1162 - val_accuracy: 0.9550\n",
            "Epoch 87/105\n",
            "25/25 [==============================] - 0s 3ms/step - loss: 0.1008 - accuracy: 0.9769 - val_loss: 0.1139 - val_accuracy: 0.9550\n",
            "Epoch 88/105\n",
            "25/25 [==============================] - 0s 3ms/step - loss: 0.0995 - accuracy: 0.9750 - val_loss: 0.1158 - val_accuracy: 0.9550\n",
            "Epoch 89/105\n",
            "25/25 [==============================] - 0s 2ms/step - loss: 0.0984 - accuracy: 0.9762 - val_loss: 0.1132 - val_accuracy: 0.9575\n",
            "Epoch 90/105\n",
            "25/25 [==============================] - 0s 3ms/step - loss: 0.0977 - accuracy: 0.9775 - val_loss: 0.1116 - val_accuracy: 0.9575\n",
            "Epoch 91/105\n",
            "25/25 [==============================] - 0s 3ms/step - loss: 0.0972 - accuracy: 0.9737 - val_loss: 0.1115 - val_accuracy: 0.9550\n",
            "Epoch 92/105\n",
            "25/25 [==============================] - 0s 3ms/step - loss: 0.0952 - accuracy: 0.9781 - val_loss: 0.1100 - val_accuracy: 0.9575\n",
            "Epoch 93/105\n",
            "25/25 [==============================] - 0s 3ms/step - loss: 0.0943 - accuracy: 0.9794 - val_loss: 0.1103 - val_accuracy: 0.9550\n",
            "Epoch 94/105\n",
            "25/25 [==============================] - 0s 3ms/step - loss: 0.0929 - accuracy: 0.9794 - val_loss: 0.1094 - val_accuracy: 0.9525\n",
            "Epoch 95/105\n",
            "25/25 [==============================] - 0s 3ms/step - loss: 0.0926 - accuracy: 0.9762 - val_loss: 0.1068 - val_accuracy: 0.9575\n",
            "Epoch 96/105\n",
            "25/25 [==============================] - 0s 2ms/step - loss: 0.0916 - accuracy: 0.9806 - val_loss: 0.1084 - val_accuracy: 0.9550\n",
            "Epoch 97/105\n",
            "25/25 [==============================] - 0s 2ms/step - loss: 0.0901 - accuracy: 0.9806 - val_loss: 0.1065 - val_accuracy: 0.9525\n",
            "Epoch 98/105\n",
            "25/25 [==============================] - 0s 3ms/step - loss: 0.0895 - accuracy: 0.9794 - val_loss: 0.1063 - val_accuracy: 0.9550\n",
            "Epoch 99/105\n",
            "25/25 [==============================] - 0s 3ms/step - loss: 0.0889 - accuracy: 0.9806 - val_loss: 0.1055 - val_accuracy: 0.9525\n",
            "Epoch 100/105\n",
            "25/25 [==============================] - 0s 3ms/step - loss: 0.0876 - accuracy: 0.9800 - val_loss: 0.1041 - val_accuracy: 0.9550\n",
            "Epoch 101/105\n",
            "25/25 [==============================] - 0s 2ms/step - loss: 0.0864 - accuracy: 0.9800 - val_loss: 0.1038 - val_accuracy: 0.9575\n",
            "Epoch 102/105\n",
            "25/25 [==============================] - 0s 3ms/step - loss: 0.0868 - accuracy: 0.9806 - val_loss: 0.1023 - val_accuracy: 0.9525\n",
            "Epoch 103/105\n",
            "25/25 [==============================] - 0s 3ms/step - loss: 0.0856 - accuracy: 0.9806 - val_loss: 0.1029 - val_accuracy: 0.9575\n",
            "Epoch 104/105\n",
            "25/25 [==============================] - 0s 3ms/step - loss: 0.0848 - accuracy: 0.9819 - val_loss: 0.1004 - val_accuracy: 0.9575\n",
            "Epoch 105/105\n",
            "25/25 [==============================] - 0s 2ms/step - loss: 0.0839 - accuracy: 0.9794 - val_loss: 0.1021 - val_accuracy: 0.9575\n"
          ]
        }
      ]
    },
    {
      "cell_type": "code",
      "source": [
        "results = model.evaluate(x_test,y_test)\n",
        "accuracies[\"Neural network\"]=results[1]\n",
        "print('Final test set loss: {:4f}'.format(results[0]))\n",
        "print('Final test set accuracy: {:4f}'.format(results[1]))"
      ],
      "metadata": {
        "id": "rqreRTp15iPr",
        "colab": {
          "base_uri": "https://localhost:8080/"
        },
        "outputId": "9417c78b-41d9-4cf6-fddd-db91736a7cda"
      },
      "execution_count": null,
      "outputs": [
        {
          "output_type": "stream",
          "name": "stdout",
          "text": [
            "13/13 [==============================] - 0s 1ms/step - loss: 0.1021 - accuracy: 0.9575\n",
            "Final test set loss: 0.102085\n",
            "Final test set accuracy: 0.957500\n"
          ]
        }
      ]
    },
    {
      "cell_type": "code",
      "source": [
        "import matplotlib.pyplot as plt\n",
        "plt.plot(history.history['accuracy'])\n",
        "plt.plot(history.history['val_accuracy'])\n",
        "plt.title('model accuracy')\n",
        "plt.ylabel('accuracy')\n",
        "plt.xlabel('epoch')\n",
        "plt.ylim(0.8,1)\n",
        "plt.legend(['train', 'test'], loc='lower right')\n",
        "plt.show()\n"
      ],
      "metadata": {
        "id": "37Ys7UJQCBj_",
        "colab": {
          "base_uri": "https://localhost:8080/",
          "height": 295
        },
        "outputId": "b67a37d0-3d24-4f83-b62a-1ea32f06a521"
      },
      "execution_count": null,
      "outputs": [
        {
          "output_type": "display_data",
          "data": {
            "text/plain": [
              "<Figure size 432x288 with 1 Axes>"
            ],
            "image/png": "[encoded data removed]"
          },
          "metadata": {
            "needs_background": "light"
          }
        }
      ]
    },
    {
      "cell_type": "code",
      "source": [
        "plt.plot(history.history['loss'])\n",
        "plt.plot(history.history['val_loss'])\n",
        "plt.title('model loss')\n",
        "plt.ylabel('loss')\n",
        "plt.xlabel('epoch')\n",
        "plt.legend(['train', 'test'], loc='upper left')\n",
        "plt.show()"
      ],
      "metadata": {
        "id": "iZWce38iCQEF",
        "colab": {
          "base_uri": "https://localhost:8080/",
          "height": 295
        },
        "outputId": "bf834ebb-90a8-4901-d4be-f507fc846c01"
      },
      "execution_count": null,
      "outputs": [
        {
          "output_type": "display_data",
          "data": {
            "text/plain": [
              "<Figure size 432x288 with 1 Axes>"
            ],
            "image/png": "[encoded data removed]"
          },
          "metadata": {
            "needs_background": "light"
          }
        }
      ]
    },
    {
      "cell_type": "code",
      "source": [
        "import matplotlib.pyplot as plt\n",
        "import seaborn as sns\n",
        "accuracy_df  = pd.DataFrame(list(accuracies.items()),columns = ['Model Name', 'Accuracy']) \n",
        "accuracy_df\n",
        "f, ax = plt.subplots(figsize=(8,4))\n",
        "sns.set_color_codes(\"dark\")\n",
        "sns.barplot(y=\"Accuracy\", x=\"Model Name\", data = accuracy_df, color=\"green\")\n",
        "plt.show()"
      ],
      "metadata": {
        "id": "X-X1vfsA-Dta",
        "colab": {
          "base_uri": "https://localhost:8080/",
          "height": 282
        },
        "outputId": "0ba0b467-2730-4bcb-8691-c744e586cc7d"
      },
      "execution_count": null,
      "outputs": [
        {
          "output_type": "display_data",
          "data": {
            "text/plain": [
              "<Figure size 576x288 with 1 Axes>"
            ],
            "image/png": "[encoded data removed]"
          },
          "metadata": {
            "needs_background": "light"
          }
        }
      ]
    }
  ]
}